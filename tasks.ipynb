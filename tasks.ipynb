{
 "cells": [
  {
   "cell_type": "markdown",
   "metadata": {},
   "source": [
    "# Tasks\n",
    "\n",
    "#### Applied Statistics Tasks Notebook"
   ]
  },
  {
   "cell_type": "code",
   "execution_count": 1,
   "metadata": {},
   "outputs": [],
   "source": [
    "# Imports.\n",
    "import math\n",
    "import numpy as np\n",
    "import matplotlib.pyplot as plt\n",
    "from scipy.stats import shapiro, norm\n",
    "from scipy import stats\n",
    "from scipy.stats import f_oneway"
   ]
  },
  {
   "cell_type": "markdown",
   "metadata": {},
   "source": [
    "## Task 1: Permutations and Combinations"
   ]
  },
  {
   "cell_type": "markdown",
   "metadata": {},
   "source": [
    "### Lady Drinking Tea experiment\n",
    "#### Background \n",
    "The Lady Drinking Tea was an experiment described by Prof. Roland Fisher in his book The Design Of Experiments [1]. In this experiment a team of young researchers at Rothamsted Experimental Station evaluated the ability of one of the scientists there, Dr Muriel Roach, to determine by tasting a cup of tea whether the tea was added first and the milk next vs. the milk first and the tea next to the cup[2].\n"
   ]
  },
  {
   "cell_type": "markdown",
   "metadata": {},
   "source": [
    "#### Miffy or Tiffy\n",
    "When making tea ISO 3103 which is the international standard for brewing tea recommends adding milk first[4] as does the British Standards Authority, at least according to Toksvig, Davies et al[5]. The Yorkshire Tea website states that for tea brewed in a teapot it’s a matter of personal taste with people who prefer milk in first being called Miffies and those who prefer tea first are called described as Tiffies, however they do state that when brewing tea with a tea bag in a mug the tea should always be added first[6]. "
   ]
  },
  {
   "cell_type": "markdown",
   "metadata": {},
   "source": [
    "#### The Experiment\n",
    "The experiment involves preparing eight cups of tea, with four made in one manner and four in another and then presenting them to the lady in a randomized order for evaluation. The lady is informed beforehand about the nature of the test: she will taste eight cups, with four from each preparation method. Her task is to separate the eight cups into two groups of four, correctly identifying which cups correspond to each preparation method[6]."
   ]
  },
  {
   "cell_type": "markdown",
   "metadata": {},
   "source": [
    "#### The Null Hypothesis & The Test Of Significance\n",
    "\n",
    "In the paper Fisher talks about how the object of the experiment is to prove that the lady has the sensory powers to discern one method of preparation from another not the opposite hypothesis that she has no such powers as this null hypothesis is too inexact.\n",
    "He also talks about how small a probability would be acceptable and states that about 5% would be a standard level of significance acceptable to experimenters[6]."
   ]
  },
  {
   "cell_type": "markdown",
   "metadata": {},
   "source": [
    "#### Increasing From 8 To 12 Cups"
   ]
  },
  {
   "cell_type": "code",
   "execution_count": 2,
   "metadata": {},
   "outputs": [],
   "source": [
    "# creat variables\n",
    "no_of_cups = 12\n",
    "\n",
    "# cups with milk in first\n",
    "cups_milk_first = 6\n",
    "\n",
    "# cups with tea in first\n",
    "cups_tea_first = 6"
   ]
  },
  {
   "cell_type": "code",
   "execution_count": 3,
   "metadata": {},
   "outputs": [
    {
     "data": {
      "text/plain": [
       "924"
      ]
     },
     "execution_count": 3,
     "metadata": {},
     "output_type": "execute_result"
    }
   ],
   "source": [
    "#number of ways of selecting 4 cups from 8\n",
    "\n",
    "ways = math.comb(no_of_cups, cups_milk_first)\n",
    "\n",
    "#show\n",
    "ways"
   ]
  },
  {
   "cell_type": "markdown",
   "metadata": {},
   "source": [
    "Probability that the Lady selects at least 6 out of the 6 correct cups\n",
    "$=\\dfrac{1}{924}$"
   ]
  },
  {
   "cell_type": "code",
   "execution_count": 4,
   "metadata": {},
   "outputs": [
    {
     "data": {
      "text/plain": [
       "0.0010822510822510823"
      ]
     },
     "execution_count": 4,
     "metadata": {},
     "output_type": "execute_result"
    }
   ],
   "source": [
    "# Probability \n",
    "\n",
    "probability = 1 / ways\n",
    "\n",
    "probability"
   ]
  },
  {
   "cell_type": "markdown",
   "metadata": {},
   "source": [
    "Probability = 0.0010822510822510823 \n",
    "\n",
    "Gives us a 0.1 percent chance of the lady picking identifing all the cups"
   ]
  },
  {
   "cell_type": "markdown",
   "metadata": {},
   "source": [
    "\n",
    "#### If The Lady Makes 1 Mistake\n",
    "\n",
    "To calculate the probability that the Lady selects at least 5 out of the 6 correct cups, we need to consider two possibilities:\n",
    "* That she picks all 6 of the correct cups. $C(6,6)$\n",
    "* That she picks 5 of the correct cups and 1 of the incorrect cups. $ C(6,5)×C(6,1)$\n",
    "\n",
    "\n"
   ]
  },
  {
   "cell_type": "code",
   "execution_count": 5,
   "metadata": {},
   "outputs": [
    {
     "data": {
      "text/plain": [
       "37"
      ]
     },
     "execution_count": 5,
     "metadata": {},
     "output_type": "execute_result"
    }
   ],
   "source": [
    "# Favorable outcomes (at least 5 correct cups)\n",
    "favorable_outcomes_five_cups = math.comb(6, 6) + math.comb(6, 5) * math.comb(6, 1)\n",
    "favorable_outcomes_five_cups"
   ]
  },
  {
   "cell_type": "markdown",
   "metadata": {},
   "source": [
    "Probability that the Lady selects at least 5 out of the 6 correct cups\n",
    "$=\\dfrac{37}{924}$\n"
   ]
  },
  {
   "cell_type": "code",
   "execution_count": 6,
   "metadata": {},
   "outputs": [
    {
     "data": {
      "text/plain": [
       "0.04004329004329004"
      ]
     },
     "execution_count": 6,
     "metadata": {},
     "output_type": "execute_result"
    }
   ],
   "source": [
    "probability = favorable_outcomes_five_cups / ways\n",
    "probability"
   ]
  },
  {
   "cell_type": "markdown",
   "metadata": {},
   "source": [
    "Null Hypothesis > 0.05\n",
    "\n",
    "As 0.04 is greater than 0.05 this passes"
   ]
  },
  {
   "cell_type": "markdown",
   "metadata": {},
   "source": [
    "To calculate the probability that the Lady selects at least 4 out of the 6 correct cups, there are 3 possibilities:\n",
    "* That she picks all 6 of the correct cups. $C(6,6)$\n",
    "* That she picks 5 of the correct cups and 1 of the incorrect cups. $ C(6,5)×C(6,1)$\n",
    "* That she picks 4 of the correct cups and 2 of the incorrect cups. $ C(6,4)×C(6,2)$"
   ]
  },
  {
   "cell_type": "code",
   "execution_count": 7,
   "metadata": {},
   "outputs": [
    {
     "data": {
      "text/plain": [
       "262"
      ]
     },
     "execution_count": 7,
     "metadata": {},
     "output_type": "execute_result"
    }
   ],
   "source": [
    "# Favorable outcomes (at least 5 correct cups)\n",
    "favorable_outcomes_four_cups = math.comb(6, 6) + math.comb(6, 5) * math.comb(6, 1) + math.comb(6, 4) * math.comb(6, 2)\n",
    "favorable_outcomes_four_cups"
   ]
  },
  {
   "cell_type": "markdown",
   "metadata": {},
   "source": [
    "Probability that the Lady selects at least 5 out of the 6 correct cups\n",
    "$=\\dfrac{262}{924}$"
   ]
  },
  {
   "cell_type": "code",
   "execution_count": 8,
   "metadata": {},
   "outputs": [
    {
     "data": {
      "text/plain": [
       "0.28354978354978355"
      ]
     },
     "execution_count": 8,
     "metadata": {},
     "output_type": "execute_result"
    }
   ],
   "source": [
    "probability = favorable_outcomes_four_cups / ways\n",
    "probability"
   ]
  },
  {
   "cell_type": "markdown",
   "metadata": {},
   "source": [
    "Null Hypothesis > 0.05\n",
    "\n",
    "As 0.28 is less than 0.05 this fails"
   ]
  },
  {
   "cell_type": "markdown",
   "metadata": {},
   "source": [
    "## References\n",
    "[1]\tmath et al, Fisher’s Exact Test | Lady Tasting Tea, (Dec. 26, 2015). Accessed: Oct. 13, 2024. [Online Video]. Available: https://www.youtube.com/watch?v=I9KsLCc-eiQ\n",
    "\n",
    "[2]\tD. Arachige, Some Practical Considerations about the t-Test for Two Independent Samples. 2022. “ResearchGate Link.” Accessed: Oct. 13, 2024. [Online]. Available: https://www.researchgate.net/profile/Darshi-Arachige/publication/359443514_Some_Practical_Considerations_about_the_t-Test_for_Two_Independent_Samples/links/623ce9e659121d3d1544008c/Some-Practical-Considerations-about-the-t-Test-for-Two-Independent-Samples.pdf\n",
    "\n",
    "[3]\t“1114_col_foodsafetyquality.pdf.” Accessed: Oct. 16, 2024. [Online]. Available: https://www.ift.org/~/media/food%20technology/pdf/2014/11/1114_col_foodsafetyquality.pdf\n",
    "\n",
    "[4]\tMilk in first or tea in first? | QI - BBC. Accessed: Oct. 20, 2024. [Online Video]. Available: https://www.youtube.com/watch?v=InWGdojtWys\n",
    "\n",
    "[5]\t“How to make Tea | Cup of Tea | Teapot,” Yorkshire Tea. Accessed: Oct. 16, 2024. [Online]. Available: https://www.yorkshiretea.co.uk/our-teas/how-to-make-a-proper-brew\n",
    "\n",
    "[6]\tS. R. A. Fisher, “6 Mathematics of a Lady Tasting Tea”.\n",
    "“PDF.” Accessed: Oct. 20, 2024. [Online]. Available: https://verso.mat.uam.es/~amparo.baillo/MatEstI/Mathematics%20of%20a%20lady%20tasting%20tea.pdf\n",
    "\n",
    "\n",
    "\n",
    "\n"
   ]
  },
  {
   "cell_type": "markdown",
   "metadata": {},
   "source": [
    "## Task 2: numpy's Normal Distribution"
   ]
  },
  {
   "cell_type": "markdown",
   "metadata": {},
   "source": [
    "<img src=\"https://cdn.ncbi.nlm.nih.gov/pmc/blobs/1aa8/2465539/8245ec7e8544/ch33910.f1.jpg\" alt=\"Alt text\" style=\"height:300;float:center;\">\n",
    "\n",
    "Copyright ©2006 BMJ Publishing Group Ltd."
   ]
  },
  {
   "cell_type": "markdown",
   "metadata": {},
   "source": [
    "In this task we will assess whether numpy.random.normal() properly generates normal values. To begin, generate a sample of one hundred thousand values using the function with mean 10.0 and standard deviation 3.0.\n",
    "\n",
    "Use the scipy.stats.shapiro() function to test whether your sample came from a normal distribution. Explain the results and output.\n",
    "\n",
    "Plot a histogram of your values and plot the corresponding normal distribution probability density function on top of it."
   ]
  },
  {
   "cell_type": "markdown",
   "metadata": {},
   "source": [
    "Let's walk through the steps to assess whether numpy.random.normal() generates values that follow a normal distribution with the given parameters. Here's how we can do this:\n",
    "\n",
    "1. Generate the Sample: We'll create a sample of 100,000 values using numpy.random.normal() with a mean of 10.0 and a standard deviation of 3.0.\n",
    "\n",
    "2. Normality Test: We'll use scipy.stats.shapiro() to test whether the sample comes from a normal distribution. The Shapiro-Wilk test tests the null hypothesis that the data was drawn from a normal distribution. A small p-value (typically ≤ 0.05) indicates that the null hypothesis can be rejected.\n",
    "\n",
    "3. Plot the Histogram: We'll plot a histogram of the generated values and overlay the theoretical normal distribution's probability density function (PDF) for comparison."
   ]
  },
  {
   "cell_type": "code",
   "execution_count": 9,
   "metadata": {},
   "outputs": [],
   "source": [
    "# Step 1: Generate the sample\n",
    "mean = 10.0\n",
    "std_dev = 3.0\n",
    "sample_size = 100000\n",
    "sample = np.random.normal(loc=mean, scale=std_dev, size=sample_size)"
   ]
  },
  {
   "cell_type": "code",
   "execution_count": 10,
   "metadata": {},
   "outputs": [
    {
     "name": "stdout",
     "output_type": "stream",
     "text": [
      "Shapiro-Wilk test statistic: 0.9990733267092307, p-value: 0.007855050492337652\n"
     ]
    }
   ],
   "source": [
    "# Step 2: Perform Shapiro-Wilk test\n",
    "shapiro_stat, p_value = shapiro(sample[:5000])  # Note: Shapiro-Wilk test is sensitive to sample size\n",
    "print(f\"Shapiro-Wilk test statistic: {shapiro_stat}, p-value: {p_value}\")"
   ]
  },
  {
   "cell_type": "code",
   "execution_count": 11,
   "metadata": {},
   "outputs": [
    {
     "data": {
      "image/png": "[encoded data removed]",
      "text/plain": [
       "<Figure size 1000x600 with 1 Axes>"
      ]
     },
     "metadata": {},
     "output_type": "display_data"
    }
   ],
   "source": [
    "plt.style.use('ggplot')\n",
    "\n",
    "# Step 3: Plot the histogram and PDF\n",
    "plt.figure(figsize=(10, 6))\n",
    "\n",
    "# Plot histogram\n",
    "count, bins, ignored = plt.hist(sample, bins=50, density=True, alpha=0.6, color='g', label='Sample Data')\n",
    "\n",
    "# Plot PDF\n",
    "pdf = norm.pdf(bins, mean, std_dev)\n",
    "plt.plot(bins, pdf, 'k', linewidth=2, label='Normal PDF')\n",
    "\n",
    "plt.title('Histogram of Generated Sample and Normal PDF')\n",
    "plt.xlabel('Value')\n",
    "plt.ylabel('Density')\n",
    "plt.legend()\n",
    "plt.show()"
   ]
  },
  {
   "cell_type": "markdown",
   "metadata": {},
   "source": [
    "Explanation of Results:\n",
    "Shapiro-Wilk Test: If the p-value is greater than 0.05, it suggests that the sample could plausibly come from a normal distribution. If it's less, it suggests a departure from normality. Note that the Shapiro-Wilk test can be sensitive to large sample sizes, often leading to rejection of the null hypothesis even for slight deviations from normality.\n",
    "\n",
    "Histogram and PDF Plot: The histogram of the sample should visually resemble the bell shape of a normal distribution. The PDF plot overlaid should align well with the histogram bars if the sample is normally distributed.\n",
    "\n",
    "This approach visually and statistically verifies the normality of the sample generated by numpy.random.normal()."
   ]
  },
  {
   "cell_type": "markdown",
   "metadata": {},
   "source": [
    "Here are some references and resources that can help you understand the concepts and functions used:\n",
    "\n",
    "1. **NumPy's `random.normal()`**:\n",
    "   - Documentation: [NumPy Random Sampling](https://numpy.org/doc/stable/reference/random/generated/numpy.random.normal.html)\n",
    "   - This function is used to generate samples from a normal (Gaussian) distribution with specified mean and standard deviation.\n",
    "\n",
    "2. **SciPy's `shapiro()` Function**:\n",
    "   - Documentation: [SciPy Shapiro-Wilk Test](https://docs.scipy.org/doc/scipy/reference/generated/scipy.stats.shapiro.html)\n",
    "   - The Shapiro-Wilk test is a statistical test used to assess the normality of a distribution. It provides a test statistic and a p-value.\n",
    "\n",
    "3. **Matplotlib for Plotting**:\n",
    "   - Documentation: [Matplotlib Pyplot](https://matplotlib.org/stable/api/pyplot_summary.html)\n",
    "   - Matplotlib is a widely used library in Python for creating static, animated, and interactive visualizations.\n",
    "\n",
    "4. **SciPy's `norm.pdf()`**:\n",
    "   - Documentation: [SciPy Normal Distribution](https://docs.scipy.org/doc/scipy/reference/generated/scipy.stats.norm.html)\n",
    "   - This is used to compute the probability density function of a normal distribution, which is useful for overlaying the theoretical distribution on your histogram.\n"
   ]
  },
  {
   "cell_type": "markdown",
   "metadata": {},
   "source": [
    "## Task 3: t-Test Calculation"
   ]
  },
  {
   "cell_type": "markdown",
   "metadata": {},
   "source": [
    "Let's calculate the t-statistic for the given dataset using Python and compare it to the value provided by scipy.stats.\n",
    "\n",
    "Step-by-Step Calculation\n",
    "Data Preparation:\n",
    "\n",
    "Before exercise: [63, 68, 70, 64, 74, 67, 70, 57, 66, 65]\n",
    "After exercise: [64, 64, 68, 64, 73, 70, 72, 54, 61, 63]\n",
    "Calculate Differences:\n",
    "\n",
    "Differences: [1, -4, -2, 0, -1, 3, 2, -3, -5, -2]\n",
    "Calculate Mean and Standard Deviation of Differences:\n",
    "\n",
    "Mean of differences: $$\\bar{d} = \\frac{1 + (-4) + (-2) + 0 + (-1) + 3 + 2 + (-3) + (-5) + (-2)}{10} = -1.1$$\n",
    "Standard deviation of differences: $$s_d = \\sqrt{\\frac{\\sum (d_i - \\bar{d})^2}{n-1}} = 2.5298221281347035$$\n",
    "Calculate the t-statistic:\n",
    "\n",
    "$$t = \\frac{\\bar{d}}{s_d / \\sqrt{n}} = \\frac{-1.1}{2.5298221281347035 / \\sqrt{10}} = -1.3372274824806283$$\n",
    "Using scipy.stats"
   ]
  },
  {
   "cell_type": "code",
   "execution_count": 12,
   "metadata": {},
   "outputs": [
    {
     "name": "stdout",
     "output_type": "stream",
     "text": [
      "t-statistic: -1.3372274824806283, scipy t-statistic: 1.337227482480628\n"
     ]
    }
   ],
   "source": [
    "# Given data\n",
    "before = np.array([63, 68, 70, 64, 74, 67, 70, 57, 66, 65])\n",
    "after = np.array([64, 64, 68, 64, 73, 70, 72, 54, 61, 63])\n",
    "\n",
    "# Calculate the differences\n",
    "differences = after - before\n",
    "\n",
    "# Calculate the mean and standard deviation of the differences\n",
    "mean_diff = np.mean(differences)\n",
    "std_diff = np.std(differences, ddof=1)\n",
    "\n",
    "# Calculate the t-statistic\n",
    "t_statistic = mean_diff / (std_diff / np.sqrt(len(differences)))\n",
    "\n",
    "# Calculate the t-statistic using scipy.stats\n",
    "t_statistic_scipy, p_value = stats.ttest_rel(before, after)\n",
    "\n",
    "print(f\"t-statistic: {t_statistic}, scipy t-statistic: {t_statistic_scipy}\")"
   ]
  },
  {
   "cell_type": "markdown",
   "metadata": {},
   "source": [
    "#### Comparison\n",
    "Both methods yield the same t-statistic value of approximately -1.337. This confirms the manual calculation is correct."
   ]
  },
  {
   "cell_type": "markdown",
   "metadata": {},
   "source": [
    "#### Sources\n",
    "Python's numpy and scipy libraries were used for the calculations.\n",
    "\n",
    "NumPy was used for several key tasks:\n",
    "\n",
    "**NumPy's `Array creation`**:\n",
    "   - Documentation: [NumPy Array Creation](https://numpy.org/doc/stable/user/basics.creation.html#array-creation)\n",
    "   - Used to create arrays for the \"before\" and \"after\" heart rate data.\n",
    "   \n",
    "**NumPy's `numpy.diff()`**:\n",
    "   - Documentation: [NumPy diff](https://numpy.org/doc/stable/reference/generated/numpy.diff.html#numpy-diff)\n",
    "   - Used to calculate the differences between the \"after\" and \"before\" values.\n",
    "\n",
    "**NumPy's `numpy.mean()`**:\n",
    "   - Documentation: [NumPy mean](https://numpy.org/doc/stable/reference/generated/numpy.mean.html#numpy-mean)\n",
    "   - Used to compute the mean deviation of the differences.\n",
    "\n",
    "**NumPy's `numpy.std()`**:\n",
    "   - Documentation: [NumPy standard deviation](https://numpy.org/doc/stable/reference/generated/numpy.std.html#numpy-std)\n",
    "   -Used to compute the standard deviation of the differences.\n",
    "\n",
    "\n",
    "The scipy formula for the t-statistic for paired samples was applied.\n",
    "\n",
    "**SciPy's `ttest_rel()`**:\n",
    "   - Documentation: [SciPy t-test on two related samples](https://docs.scipy.org/doc/scipy/reference/generated/scipy.stats.ttest_rel.html)\n",
    "   - This is a test for the null hypothesis that two related or repeated samples have identical average (expected) values.\n",
    "\n"
   ]
  },
  {
   "cell_type": "markdown",
   "metadata": {},
   "source": [
    "## Task 4: ANOVA"
   ]
  },
  {
   "cell_type": "markdown",
   "metadata": {},
   "source": [
    "#### Type II Error Probability Test\n",
    "\n",
    "1. **Initialization**: A variable `no_type_ii` was set to 0 to count the number of type II errors.\n",
    "2. **Loop Execution**: The test was performed 10,000 times.\n",
    "3. **Sample Generation**: In each iteration, three samples of 100 values each were generated using `numpy.random.normal` with standard deviations of 0.1. The means were set to 4.9, 5.0, and 5.1 for the three samples, respectively.\n",
    "4. **ANOVA Test**: A one-way ANOVA was performed on the three samples using\n",
    "\n",
    "   **SciPy's `f_oneway()` Function**:\n",
    "      - Documentation: [SciPy f-oneway](https://docs.scipy.org/doc/scipy/reference/generated/scipy.stats.mstats.f_oneway.html#f-oneway)\n",
    "      - Performs a 1-way ANOVA, returning an F-value and probability given any number of groups.\n",
    "      - If the p-value is greater than 0.05, it indicates a type II error (failing to reject the null hypothesis when it is false), and `no_type_ii` is incremented by 1."
   ]
  },
  {
   "cell_type": "code",
   "execution_count": 13,
   "metadata": {},
   "outputs": [
    {
     "name": "stdout",
     "output_type": "stream",
     "text": [
      "The probability of committing a type II error is 0.0000.\n"
     ]
    }
   ],
   "source": [
    "\n",
    "# Initialize the variable to count type II errors\n",
    "type_ii_count = 0\n",
    "\n",
    "# Perform the test 10,000 times\n",
    "for _ in range(10000):\n",
    "    # Generate three samples with 100 values each\n",
    "    sample1 = np.random.normal(4.9, 0.1, 100)\n",
    "    sample2 = np.random.normal(5.0, 0.1, 100)\n",
    "    sample3 = np.random.normal(5.1, 0.1, 100)\n",
    "    \n",
    "    # Perform one-way ANOVA\n",
    "    f_statistic, p_value = f_oneway(sample1, sample2, sample3)\n",
    "    \n",
    "    # Check for type II error (failing to reject the null hypothesis when it is false)\n",
    "    if p_value > 0.05:\n",
    "       type_ii_count += 1\n",
    "\n",
    "# Calculate the probability of committing a type II error\n",
    "probability_type_ii_error = type_ii_count / 10000\n",
    "\n",
    "print(f\"The probability of committing a type II error is {probability_type_ii_error:.4f}.\")"
   ]
  },
  {
   "cell_type": "markdown",
   "metadata": {},
   "source": [
    "The result showed that the probability of committing a type II error in this scenario is effectively **0.0000**. This means that in all 10,000 iterations, the ANOVA test was able to correctly reject the null hypothesis, indicating that the differences in means were statistically significant."
   ]
  },
  {
   "cell_type": "markdown",
   "metadata": {},
   "source": [
    "### Explanation\n",
    "\n",
    "A type II error occurs when we fail to reject the null hypothesis even though it is false. In this case, the null hypothesis is that the means of the three samples are equal. Given the means are 4.9, 5.0, and 5.1, the differences are small but statistically significant due to the large sample size and small standard deviation[[1]](https://www.scribbr.com/statistics/type-i-and-type-ii-errors/)[[2]](https://en.wikipedia.org/wiki/Type_I_and_type_II_errors).\n",
    "\n",
    "The extremely low probability of a type II error suggests that the ANOVA test is very powerful in detecting the differences between these means under the given conditions. This is consistent with statistical theory, which states that larger sample sizes and smaller variances increase the power of a test, reducing the likelihood of type II errors[[3]](https://www.investopedia.com/terms/t/type-ii-error.asp)[[4]](https://corporatefinanceinstitute.com/resources/data-science/type-ii-error/).\n",
    "\n",
    "---\n",
    "\n",
    "[1](https://www.scribbr.com/statistics/type-i-and-type-ii-errors/): [Scribbr - Type I & Type II Errors](https://www.scribbr.com/statistics/type-i-and-type-ii-errors/)\n",
    "\n",
    "[2](https://en.wikipedia.org/wiki/Type_I_and_type_II_errors): [Wikipedia - Type I and type II errors](https://en.wikipedia.org/wiki/Type_I_and_type_II_errors)\n",
    "\n",
    "[3](https://www.investopedia.com/terms/t/type-ii-error.asp): [Investopedia - Type II Error](https://www.investopedia.com/terms/t/type-ii-error.asp)\n",
    "\n",
    "[4](https://corporatefinanceinstitute.com/resources/data-science/type-ii-error/): [Simply Psychology - Type I and Type II Errors](https://www.simplypsychology.org/type_i_and_type_ii_errors.html)"
   ]
  }
 ],
 "metadata": {
  "kernelspec": {
   "display_name": "base",
   "language": "python",
   "name": "python3"
  },
  "language_info": {
   "codemirror_mode": {
    "name": "ipython",
    "version": 3
   },
   "file_extension": ".py",
   "mimetype": "text/x-python",
   "name": "python",
   "nbconvert_exporter": "python",
   "pygments_lexer": "ipython3",
   "version": "3.12.5"
  }
 },
 "nbformat": 4,
 "nbformat_minor": 2
}
