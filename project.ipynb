{
 "cells": [
  {
   "cell_type": "markdown",
   "metadata": {},
   "source": [
    "# Project\n",
    "\n",
    "#### Applied Statistics Project Notebook"
   ]
  },
  {
   "cell_type": "code",
   "execution_count": 1,
   "metadata": {},
   "outputs": [],
   "source": [
    "#Imports\n",
    "\n",
    "import csv\n",
    "import numpy as np\n",
    "import pandas as pd\n",
    "import matplotlib.pyplot as plt\n",
    "import seaborn as sns\n",
    "plt.style.use('ggplot')"
   ]
  },
  {
   "cell_type": "markdown",
   "metadata": {},
   "source": [
    "### 1. Download and save the dataset"
   ]
  },
  {
   "cell_type": "code",
   "execution_count": 2,
   "metadata": {},
   "outputs": [],
   "source": [
    "# import and save as a CSV file\n",
    "URL = 'https://vincentarelbundock.github.io/Rdatasets/csv/datasets/PlantGrowth.csv'\n",
    "FILENAME = 'data/plant_growth.csv'\n",
    "# load into pandas dataframe\n",
    "df = pd.read_csv(URL)\n",
    "\n",
    "# export to data folder\n",
    "df.to_csv(FILENAME, sep=',', index=False, encoding='utf-8')"
   ]
  },
  {
   "cell_type": "markdown",
   "metadata": {},
   "source": [
    "### 2. Describe the data set"
   ]
  },
  {
   "cell_type": "markdown",
   "metadata": {},
   "source": [
    "The PlantGrowth dataset in R is a simple and commonly used dataset for illustrating statistical analysis. It contains data from an experiment on the effect of different treatments on the growth of plants.\n",
    "\n",
    "The dataset is a built-in dataset in R and contains results from an experiment designed to compare the yields (measured by the dried weight of plants) obtained under a control condition and two different treatment conditions[[1]](https://www.rdocumentation.org/packages/datasets/versions/3.6.2/topics/PlantGrowth)[[2]](https://github.com/KomlaAkpalu/PlantGrowth-DataAnalysis)."
   ]
  },
  {
   "cell_type": "markdown",
   "metadata": {},
   "source": [
    "##### Format\n",
    "The dataset is a data frame with 30 observations on 2 variables:\n",
    "- `weight`: Numeric, representing the dried weight of the plants.\n",
    "- `group`: Factor with three levels (`ctrl`, `trt1`, `trt2`), to show which treatment group each plant belongs to[[2]](https://github.com/KomlaAkpalu/PlantGrowth-DataAnalysis)."
   ]
  },
  {
   "cell_type": "markdown",
   "metadata": {},
   "source": [
    "##### Usage\n",
    "It is often used for practicing data analysis and visualization techniques in statistics, such as performing ANOVA (Analysis of Variance) to determine if there are significant differences between the groups and it is also used as basis for examining the impact of different treatments on plant growth[[1]](https://www.rdocumentation.org/packages/datasets/versions/3.6.2/topics/PlantGrowth)."
   ]
  },
  {
   "cell_type": "markdown",
   "metadata": {},
   "source": [
    "[1]https://www.rdocumentation.org/packages/datasets/versions/3.6.2/topics/PlantGrowth\n",
    "\n",
    "[2]https://github.com/KomlaAkpalu/PlantGrowth-DataAnalysis"
   ]
  },
  {
   "cell_type": "code",
   "execution_count": 3,
   "metadata": {},
   "outputs": [
    {
     "data": {
      "text/html": [
       "<div>\n",
       "<style scoped>\n",
       "    .dataframe tbody tr th:only-of-type {\n",
       "        vertical-align: middle;\n",
       "    }\n",
       "\n",
       "    .dataframe tbody tr th {\n",
       "        vertical-align: top;\n",
       "    }\n",
       "\n",
       "    .dataframe thead th {\n",
       "        text-align: right;\n",
       "    }\n",
       "</style>\n",
       "<table border=\"1\" class=\"dataframe\">\n",
       "  <thead>\n",
       "    <tr style=\"text-align: right;\">\n",
       "      <th></th>\n",
       "      <th>rownames</th>\n",
       "      <th>weight</th>\n",
       "    </tr>\n",
       "  </thead>\n",
       "  <tbody>\n",
       "    <tr>\n",
       "      <th>count</th>\n",
       "      <td>30.000000</td>\n",
       "      <td>30.000000</td>\n",
       "    </tr>\n",
       "    <tr>\n",
       "      <th>mean</th>\n",
       "      <td>15.500000</td>\n",
       "      <td>5.073000</td>\n",
       "    </tr>\n",
       "    <tr>\n",
       "      <th>std</th>\n",
       "      <td>8.803408</td>\n",
       "      <td>0.701192</td>\n",
       "    </tr>\n",
       "    <tr>\n",
       "      <th>min</th>\n",
       "      <td>1.000000</td>\n",
       "      <td>3.590000</td>\n",
       "    </tr>\n",
       "    <tr>\n",
       "      <th>25%</th>\n",
       "      <td>8.250000</td>\n",
       "      <td>4.550000</td>\n",
       "    </tr>\n",
       "    <tr>\n",
       "      <th>50%</th>\n",
       "      <td>15.500000</td>\n",
       "      <td>5.155000</td>\n",
       "    </tr>\n",
       "    <tr>\n",
       "      <th>75%</th>\n",
       "      <td>22.750000</td>\n",
       "      <td>5.530000</td>\n",
       "    </tr>\n",
       "    <tr>\n",
       "      <th>max</th>\n",
       "      <td>30.000000</td>\n",
       "      <td>6.310000</td>\n",
       "    </tr>\n",
       "  </tbody>\n",
       "</table>\n",
       "</div>"
      ],
      "text/plain": [
       "        rownames     weight\n",
       "count  30.000000  30.000000\n",
       "mean   15.500000   5.073000\n",
       "std     8.803408   0.701192\n",
       "min     1.000000   3.590000\n",
       "25%     8.250000   4.550000\n",
       "50%    15.500000   5.155000\n",
       "75%    22.750000   5.530000\n",
       "max    30.000000   6.310000"
      ]
     },
     "execution_count": 3,
     "metadata": {},
     "output_type": "execute_result"
    }
   ],
   "source": [
    "# run describe on the data set\n",
    "df.describe()"
   ]
  },
  {
   "cell_type": "code",
   "execution_count": 4,
   "metadata": {},
   "outputs": [],
   "source": [
    "# split dataset according to groups\n",
    "\n",
    "df_ctrl = df[df['group'] == 'ctrl']\n",
    "df_trt1 = df[df['group'] == 'trt1']\n",
    "df_trt2 = df[df['group'] == 'trt2']"
   ]
  },
  {
   "cell_type": "code",
   "execution_count": 5,
   "metadata": {},
   "outputs": [
    {
     "name": "stdout",
     "output_type": "stream",
     "text": [
      "Control group:\n",
      "        rownames     weight\n",
      "count  10.00000  10.000000\n",
      "mean    5.50000   5.032000\n",
      "std     3.02765   0.583091\n",
      "min     1.00000   4.170000\n",
      "25%     3.25000   4.550000\n",
      "50%     5.50000   5.155000\n",
      "75%     7.75000   5.292500\n",
      "max    10.00000   6.110000\n",
      "Treatment 1 Group:\n",
      "        rownames     weight\n",
      "count  10.00000  10.000000\n",
      "mean   15.50000   4.661000\n",
      "std     3.02765   0.793676\n",
      "min    11.00000   3.590000\n",
      "25%    13.25000   4.207500\n",
      "50%    15.50000   4.550000\n",
      "75%    17.75000   4.870000\n",
      "max    20.00000   6.030000\n",
      "Treatment 2 Group:\n",
      "        rownames     weight\n",
      "count  10.00000  10.000000\n",
      "mean   25.50000   5.526000\n",
      "std     3.02765   0.442573\n",
      "min    21.00000   4.920000\n",
      "25%    23.25000   5.267500\n",
      "50%    25.50000   5.435000\n",
      "75%    27.75000   5.735000\n",
      "max    30.00000   6.310000\n"
     ]
    }
   ],
   "source": [
    "# run describe on each new data set\n",
    "\n",
    "print(f\"Control group:\\n {df_ctrl.describe()}\\nTreatment 1 Group:\\n {df_trt1.describe()}\\nTreatment 2 Group:\\n {df_trt2.describe()}\")\n"
   ]
  },
  {
   "cell_type": "code",
   "execution_count": 6,
   "metadata": {},
   "outputs": [],
   "source": [
    "# convert to numpy arrays\n",
    "ctrl = df_ctrl.to_numpy()\n",
    "trt1 = df_trt1.to_numpy()\n",
    "trt2 = df_trt2.to_numpy()"
   ]
  },
  {
   "cell_type": "code",
   "execution_count": 7,
   "metadata": {},
   "outputs": [],
   "source": [
    "df_weights = pd.concat([df_ctrl['weight'], df_trt1['weight'], df_trt2['weight']], axis=1, keys=['ctrl', 'trt1', 'trt2'])"
   ]
  },
  {
   "cell_type": "code",
   "execution_count": 8,
   "metadata": {},
   "outputs": [
    {
     "data": {
      "image/png": "[encoded data removed]",
      "text/plain": [
       "<Figure size 640x480 with 1 Axes>"
      ]
     },
     "metadata": {},
     "output_type": "display_data"
    }
   ],
   "source": [
    "# Create a strip plot.\n",
    "sns.stripplot(data=df_weights);"
   ]
  },
  {
   "cell_type": "code",
   "execution_count": 9,
   "metadata": {},
   "outputs": [
    {
     "data": {
      "image/png": "[encoded data removed]",
      "text/plain": [
       "<Figure size 640x480 with 1 Axes>"
      ]
     },
     "metadata": {},
     "output_type": "display_data"
    }
   ],
   "source": [
    "# Box plot.\n",
    "sns.boxplot(data=df_weights);"
   ]
  },
  {
   "cell_type": "markdown",
   "metadata": {},
   "source": [
    "### 3. Describe what a t-test is, how it works, and what the assumptions are."
   ]
  },
  {
   "cell_type": "markdown",
   "metadata": {},
   "source": [
    "A t-test also known as Student's t test is a statistical test used to determine if there is a significant difference between the means of two groups[[3]](https://journals.lww.com/aoca/fulltext/2019/22040/application_of_student_s_t_test,_analysis_of.11.aspx). It helps evaluate whether observed differences in sample means are likely to have occurred by chance, or if they reflect real differences in the populations being compared. The test is particularly useful when the sample size is small, and the population standard deviation is unknown.\n",
    "\n",
    "There are different types of t-tests depending on the situation:\n",
    "\n",
    "1. One-sample t-test: Compares the mean of a single sample to a known value or theoretical population mean.\n",
    "2. Independent two-sample t-test: Compares the means of two **independent groups** (e.g., treatment vs. control).\n",
    "3. Paired t-test: Compares the means of two **related groups** (e.g., before and after a treatment on the same individuals)[[3]](https://journals.lww.com/aoca/fulltext/2019/22040/application_of_student_s_t_test,_analysis_of.11.aspx)."
   ]
  },
  {
   "cell_type": "markdown",
   "metadata": {},
   "source": [
    "##### How it works\n",
    "\n",
    "The formula for the independent two-sample t-test is:\n",
    "\n",
    "$ t = \\frac{\\bar{X}_1 - \\bar{X}_2}{\\sqrt{\\frac{s_1^2}{n_1} + \\frac{s_2^2}{n_2}}} $\n",
    "\n",
    "Where:\n",
    "- $\\bar{X}_1$ and $\\bar{X}_2$  are the sample means.\n",
    "- $s_1^2$ and $s_2^2$ are the sample variances.\n",
    "- $n_1$ and $n_2$ are the sample sizes.\n",
    "\n",
    "###### Interpretation\n",
    "- **t-value**: Indicates the ratio of the difference between the group means to the variability of the groups.\n",
    "- **p-value**: Shows the probability that the observed difference occurred by chance. A p-value less than 0.05 typically indicates statistical significance.\n",
    "- **Degrees of freedom (df)**: Related to the sample size and used to determine the critical value from the t-distribution.\n",
    "\n",
    "##### Example\n",
    "Suppose you want to test if a new drug affects blood pressure. You measure the blood pressure of 30 patients before and after administering the drug. You can use a paired sample t-test to compare the means of the two measurements.\n"
   ]
  },
  {
   "cell_type": "markdown",
   "metadata": {},
   "source": [
    "##### Assumptions\n",
    "For a t-test to be valid, the following assumptions should be met:\n",
    "- The data should be approximately normally distributed.\n",
    "- The variances of the two groups should be equal (homogeneity of variance).\n",
    "- The data should be independent."
   ]
  },
  {
   "cell_type": "markdown",
   "metadata": {},
   "source": [
    "#### References\n",
    "[1] \"An Introduction to t Tests,\" Scribbr. [Online]. Available: https://www.scribbr.com/statistics/t-test/. [Accessed: 09-Dec-2024].\n",
    "\n",
    "[2] \"T Test (Student’s T-Test),\" Statistics How To. [Online]. Available: https://www.statisticshowto.com/probability-and-statistics/t-test/. [Accessed: 09-Dec-2024].\n",
    "\n",
    "[3] \"T-Test,\" Investopedia. [Online]. Available: https://www.investopedia.com/terms/t/t-test.asp. [Accessed: 09-Dec-2024]."
   ]
  },
  {
   "cell_type": "markdown",
   "metadata": {},
   "source": [
    "### 4. Perform a t-test to determine whether there is a significant difference between the two treatment groups trt1 and trt2."
   ]
  },
  {
   "cell_type": "markdown",
   "metadata": {},
   "source": [
    "### 5. Perform ANOVA to determine whether there is a significant difference between the three treatment groups ctrl, trt1, and trt2."
   ]
  },
  {
   "cell_type": "markdown",
   "metadata": {},
   "source": [
    "### 6. Explain why it is more appropriate to apply ANOVA rather than several t-tests when analyzing more than two groups."
   ]
  }
 ],
 "metadata": {
  "kernelspec": {
   "display_name": "base",
   "language": "python",
   "name": "python3"
  },
  "language_info": {
   "codemirror_mode": {
    "name": "ipython",
    "version": 3
   },
   "file_extension": ".py",
   "mimetype": "text/x-python",
   "name": "python",
   "nbconvert_exporter": "python",
   "pygments_lexer": "ipython3",
   "version": "3.12.5"
  }
 },
 "nbformat": 4,
 "nbformat_minor": 2
}
