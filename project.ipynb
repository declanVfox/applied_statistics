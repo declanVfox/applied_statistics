{
 "cells": [
  {
   "cell_type": "markdown",
   "metadata": {},
   "source": [
    "### 1. Download and save the dataset"
   ]
  },
  {
   "cell_type": "markdown",
   "metadata": {},
   "source": [
    "### 2. Describe the data set"
   ]
  },
  {
   "cell_type": "markdown",
   "metadata": {},
   "source": [
    "The PlantGrowth dataset in R is a simple and commonly used dataset for illustrating statistical analysis, especially ANOVA (Analysis of Variance). It contains data from an experiment on the effect of different treatments on the growth of plants. The dataset is included in the base R installation and can be accessed using the command PlantGrowth."
   ]
  },
  {
   "cell_type": "markdown",
   "metadata": {},
   "source": [
    "### 3. Describe what a t-test is, how it works, and what the assumptions are."
   ]
  },
  {
   "cell_type": "markdown",
   "metadata": {},
   "source": [
    "A t-test is a statistical test used to determine if there is a significant difference between the means of two groups. It helps evaluate whether observed differences in sample means are likely to have occurred by chance, or if they reflect real differences in the populations being compared. The test is particularly useful when the sample size is small, and the population standard deviation is unknown.\n",
    "\n",
    "There are different types of t-tests depending on the situation:\n",
    "\n",
    "1. One-sample t-test: Compares the mean of a single sample to a known value or theoretical population mean.\n",
    "2. Independent two-sample t-test: Compares the means of two independent groups (e.g., treatment vs. control).\n",
    "3. Paired t-test: Compares the means of two related groups (e.g., before and after a treatment on the same individuals)."
   ]
  },
  {
   "cell_type": "markdown",
   "metadata": {},
   "source": [
    "### 4. Perform a t-test to determine whether there is a significant difference between the two treatment groups trt1 and trt2."
   ]
  },
  {
   "cell_type": "markdown",
   "metadata": {},
   "source": [
    "### 5. Perform ANOVA to determine whether there is a significant difference between the three treatment groups ctrl, trt1, and trt2."
   ]
  },
  {
   "cell_type": "markdown",
   "metadata": {},
   "source": [
    "### 6. Explain why it is more appropriate to apply ANOVA rather than several t-tests when analyzing more than two groups."
   ]
  }
 ],
 "metadata": {
  "language_info": {
   "name": "python"
  }
 },
 "nbformat": 4,
 "nbformat_minor": 2
}
